{
 "cells": [
  {
   "cell_type": "code",
   "execution_count": 1,
   "id": "430204f6",
   "metadata": {},
   "outputs": [
    {
     "name": "stdout",
     "output_type": "stream",
     "text": [
      "value\n"
     ]
    }
   ],
   "source": [
    "#config box\n",
    "d = {\"key\": \"value\", \"key1\": \"value1\"}\n",
    "\n",
    "print(d.get(\"key\"))"
   ]
  },
  {
   "cell_type": "code",
   "execution_count": 3,
   "id": "a721b176",
   "metadata": {},
   "outputs": [
    {
     "data": {
      "text/plain": [
       "'value1'"
      ]
     },
     "execution_count": 3,
     "metadata": {},
     "output_type": "execute_result"
    }
   ],
   "source": [
    "d['key1']"
   ]
  },
  {
   "cell_type": "code",
   "execution_count": 4,
   "id": "f753dd38",
   "metadata": {},
   "outputs": [
    {
     "data": {
      "text/plain": [
       "'value'"
      ]
     },
     "execution_count": 4,
     "metadata": {},
     "output_type": "execute_result"
    }
   ],
   "source": [
    "from box import ConfigBox\n",
    "d2=ConfigBox({\"key\": \"value\", \"key1\": \"value1\"})\n",
    "d2.key\n"
   ]
  },
  {
   "cell_type": "code",
   "execution_count": 6,
   "id": "2ab67dc4",
   "metadata": {},
   "outputs": [
    {
     "data": {
      "text/plain": [
       "(box.config_box.ConfigBox, dict)"
      ]
     },
     "execution_count": 6,
     "metadata": {},
     "output_type": "execute_result"
    }
   ],
   "source": [
    "type(d2),type(d)"
   ]
  },
  {
   "cell_type": "code",
   "execution_count": 7,
   "id": "dbda6b33",
   "metadata": {},
   "outputs": [
    {
     "data": {
      "text/plain": [
       "6"
      ]
     },
     "execution_count": 7,
     "metadata": {},
     "output_type": "execute_result"
    }
   ],
   "source": [
    "#ensure annotations\n",
    "def get_product(x:int,y:int)->int:\n",
    "    return x*y\n",
    "\n",
    "get_product(2,3)\n"
   ]
  },
  {
   "cell_type": "code",
   "execution_count": 8,
   "id": "38cca04b",
   "metadata": {},
   "outputs": [
    {
     "data": {
      "text/plain": [
       "7.199999999999999"
      ]
     },
     "execution_count": 8,
     "metadata": {},
     "output_type": "execute_result"
    }
   ],
   "source": [
    "get_product(3,2.4)"
   ]
  },
  {
   "cell_type": "code",
   "execution_count": null,
   "id": "5c987b98",
   "metadata": {},
   "outputs": [],
   "source": [
    "from ensure import ensure_annotations\n",
    "\n",
    "@ensure_annotations\n",
    "def get_product(a: int, b: int) -> int:\n",
    "    return a + b"
   ]
  }
 ],
 "metadata": {
  "kernelspec": {
   "display_name": ".venv",
   "language": "python",
   "name": "python3"
  },
  "language_info": {
   "codemirror_mode": {
    "name": "ipython",
    "version": 3
   },
   "file_extension": ".py",
   "mimetype": "text/x-python",
   "name": "python",
   "nbconvert_exporter": "python",
   "pygments_lexer": "ipython3",
   "version": "3.8.20"
  }
 },
 "nbformat": 4,
 "nbformat_minor": 5
}
